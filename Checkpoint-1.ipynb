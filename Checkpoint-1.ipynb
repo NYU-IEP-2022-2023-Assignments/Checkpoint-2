{
  "nbformat": 4,
  "nbformat_minor": 0,
  "metadata": {
    "colab": {
      "provenance": [],
      "authorship_tag": "ABX9TyN5TTl3FChFss1hfhiQoVSA",
      "include_colab_link": true
    },
    "kernelspec": {
      "name": "python3",
      "display_name": "Python 3"
    },
    "language_info": {
      "name": "python"
    }
  },
  "cells": [
    {
      "cell_type": "markdown",
      "metadata": {
        "id": "view-in-github",
        "colab_type": "text"
      },
      "source": [
        "<a href=\"https://colab.research.google.com/github/NYU-IEP-2022-2023-Assignments/Checkpoint-1/blob/main/Checkpoint-1.ipynb\" target=\"_parent\"><img src=\"https://colab.research.google.com/assets/colab-badge.svg\" alt=\"Open In Colab\"/></a>"
      ]
    },
    {
      "cell_type": "code",
      "execution_count": 2,
      "metadata": {
        "id": "cmW6l7DWfEl6"
      },
      "outputs": [],
      "source": [
        "import numpy as np\n",
        "import matplotlib.pyplot as plt\n",
        "from scipy.integrate import solve_ivp\n"
      ]
    },
    {
      "cell_type": "markdown",
      "source": [
        "#Checkpoint 1: simulate a pendulum with constant damping"
      ],
      "metadata": {
        "id": "VOi_6o0SDihS"
      }
    },
    {
      "cell_type": "markdown",
      "source": [
        "#Look back at Simulation 1 from last semester\n",
        "\n",
        "***If you feel confident, you can skip over this reading - it doesn't contain anything you didn't learn last semester***\n",
        "\n",
        "We learned how to use the Scipy function [solve ivp](https://docs.scipy.org/doc/scipy/reference/generated/scipy.integrate.solve_ivp.html) \n",
        "\n",
        "Solve ivp stands for solve initial value problem; you give it a differential equation and the initial values (e.g. of position and velocity) and it finds all future values\n",
        "\n",
        "From the documentation: This function numerically integrates a system of ordinary differential equations given an initial value:\n",
        "\n",
        "$\\frac{d \\vec{y}}{d t} = f(t,\\vec{y})$\n",
        "\n",
        "$\\vec{y}(t_{init}) = \\vec{y}_{init}$\n",
        "\n",
        "Here I've written $y$ as a vector, $\\vec{y}$ to emphasize that there may be more than one y value in the solution. $t_{init}$ is the initial time, which is usually 0, but doesn't have to be. \n",
        "\n",
        "We learned that it's better to work with non-dimensional units when doing numeric simulations. So we first turned the linearized pendulum equation\n",
        "\n",
        "$\\frac{d^2 x}{d t^2} = -\\frac{g}{L} x = -\\omega^2 x$\n",
        "\n",
        "into a non-dimensional form\n",
        "\n",
        "$\\frac{d^2 x}{d s^2} = - x, s = \\omega t$\n",
        "\n",
        "\n",
        "\n",
        "Although the documentation uses $t$ for time, I'm going to use $s$, to keep track of the fact that we'll make time non-dimensional ($s = \\omega t$) before we plug it into the solver.\n",
        "\n",
        "\n",
        "To use ```solve_ivp``` to integrate the pendulum equation, we turned the *second order* differential equation $\\frac{d^2 x}{d s^2} = - x, s = \\omega t$ into a system of *first order* differential equations.\n",
        "uations\n",
        "\n",
        "$\\frac{d x}{d s} = u(s)$\n",
        "\n",
        "$\\frac{d u}{d s} = - x(s)$\n",
        "\n",
        "$x(s_{init}) = x_{init}$\n",
        "\n",
        "$u(s_{init}) = u_{init}$ \n",
        "\n",
        "\n",
        "We then wrote this system in vector form\n",
        "\n",
        "$\\vec{y}(s) = (x(s),u(s))$\n",
        "\n",
        "$\\vec{y}_{init} = (x_{init},u_{init})$\n",
        "\n",
        "$\\frac{d \\vec{y}}{d s} = (\\frac{d x}{d s}, \\frac{d u}{d s}) = (u(s),-x(s)) = (y_1(s), -y_0(s))$\n",
        "\n",
        "\n",
        "```solve_ivp``` solves the system: $\\frac{d \\vec{y}}{d s} = f(s,\\vec{y})$\n",
        "\n",
        "For the pendulum equation, then, $f(s,\\vec{y}) = (y_1(s), -y_0(s))$\n",
        "\n",
        "Note that even though $s$ appears on the left side, it doesn't appear by itself on the right. This is because our specific equations of motion don't have explicit time dependence. An example where $s$ would appear on the right is if we were applying a periodic force by pushing the pendulum at particular times (we won't do that yet!). **Even if your derivative function doesn't use s, you have to include both arguments in the function definition**\n",
        "\n",
        "####Mapping between math notation and python notation\n",
        "\n",
        "In math, we write $\\vec{y}(s) = (y_0(s), y_1(s))$ to indicate we have two components of the vector $\\vec{y}$, each of which depends on s. Sometimes we write $\\vec{y} = (y_0, y_1)$, and the s-dependece is understood. When we turn this into python notation, the $(s)$ is always understood, and we write the first component as ```y[0]``` and the second component as ```y[1]```\n",
        "\n",
        "Math: $f(s,\\vec{y}) = (y_1, -y_0)$ becomes Python: ``` pendulum_derivative_function (s,y): return (y[1],-y[0])```\n",
        "\n",
        "At a minimum solve ivp takes 3 inputs and returns an output \"bunch object\" which just basically stores all the parts of the answer by name:\n",
        "\n",
        "\n",
        "```\n",
        "sol = solve_ivp(fun, t_span, y0)\n",
        "#fun is the derivative function dydt = fun(t,y)\n",
        "#t_span is (initial_time, final_time)\n",
        "#y0 is the initial condition\n",
        "\n",
        "#sol.t has the time value\n",
        "#sol.y has the solution\n",
        "plt.plot(sol.t, sol.y[0]) #would plot position vs. time, if y[0] represents position\n",
        "```\n",
        "\n",
        "By default, the solver spaces the output time points too far apart to make a nice plot. How do we fix this? By telling the solver exactly when we want the output.\n",
        "From the [documentation](https://docs.scipy.org/doc/scipy/reference/generated/scipy.integrate.solve_ivp.html), we find the optional parameter: \n",
        "\n",
        "**t_eval : array_like or None, optional**\n",
        "\n",
        "Times at which to store the computed solution, must be sorted and lie within t_span. If None (default), use points selected by the solver.\n",
        "\n",
        "\n",
        "Below is a minimum working example that plots position vs. s for a pendulum with an initial amplitude of 0.1 m. \n"
      ],
      "metadata": {
        "id": "b8UdtGXiy8yX"
      }
    },
    {
      "cell_type": "code",
      "source": [
        "def oscillatorDerivative (s,y): \n",
        "  return (y[1],-y[0]) #y[0] = position, y[1] = velocity;\n",
        "\n",
        "y0 = (0.1,0) #initial position = 1, initial velocity = 0 - should look like a cosine\n",
        "t_span = (0,10) #go from s = 0 to s = 10\n",
        "ds = 0.01 #output solution every 0.01 radians (0.01/omega seconds)\n",
        "\n",
        "sol = solve_ivp(oscillatorDerivative, t_span, y0, t_eval = np.arange(t_span[0],t_span[1],ds))\n",
        "\n",
        "plt.plot(sol.t, sol.y[0], 'm.', sol.t, y0[0]*np.cos(sol.t), 'c-',linewidth=2.5) #note that even though we call time \"s\", python stores time in sol.t\n",
        "\n",
        "plt.legend(('numeric','analytic'));"
      ],
      "metadata": {
        "id": "LZWHoftYrvkD",
        "colab": {
          "base_uri": "https://localhost:8080/",
          "height": 265
        },
        "outputId": "fadfa352-5a5f-4d9c-bccb-62cf1de2df01"
      },
      "execution_count": 3,
      "outputs": [
        {
          "output_type": "display_data",
          "data": {
            "text/plain": [
              "<Figure size 432x288 with 1 Axes>"
            ],
            "image/png": "[encoded data removed]"
          },
          "metadata": {
            "needs_background": "light"
          }
        }
      ]
    },
    {
      "cell_type": "markdown",
      "source": [
        "### QUESTION 1: Simulate the undamped pendulum and calculate its energies\n",
        "\n",
        "Convince yourself that if $x$ is measured in meters, $m$ is measured in kg, $\\omega$ is measured in $s^{-1}$, $s = \\omega t$, $u = \\frac{d x}{d s} = \\omega \\frac{d x}{d t}$, then the Potential (PE) and Kinetic (KE) energies are given by\n",
        "\n",
        "$PE = \\frac{1}{2} m \\omega ^2 x^2$\n",
        "\n",
        "$KE = \\frac{1}{2} m \\omega ^2 u^2$\n",
        "\n",
        "1. Please simulate the motion of a pendulum with mass 0.5 kg and length 1 meter released at t = 0 from an initial displacement of 0.1 meters at 0 velocity, over a time range of 0 to 10 seconds. Have ```solve_ivp``` calculate the solution in increments of 0.05 seconds over the time range 0 to 10 seconds in increments of 0.05 seconds. *Hint: note that I calculated $\\omega$ and convered the time range and dt into units of $s = \\omega t$ for you below*\n",
        "1. Please plot the displacement of the bob vs. time over the time range 0 to 10 seconds in increments of 0.05 seconds. *Remember that `sol.t` contains $s$, so $t = $ `sol.t / omega`*\n",
        "1. On a new graph, please plot the Kinetic Energy, Potential Energy, and total energy as a function of time over the time range 0 to 10 seconds in increments of 0.05 seconds. *Hint: when calculating the kinetic energy, remember that u is stored in `sol.y[1]`*"
      ],
      "metadata": {
        "id": "sfkrh0GuSLDe"
      }
    },
    {
      "cell_type": "code",
      "source": [
        "g = 9.8\n",
        "L = 1\n",
        "m = 0.5\n",
        "a = 0.1\n",
        "omega = np.sqrt(g/L)\n",
        "t_span = np.array((0,10))\n",
        "s_span = omega*t_span\n",
        "dt = 0.05\n",
        "ds = omega*dt\n",
        "\n",
        "##your code here\n"
      ],
      "metadata": {
        "id": "vY8Xw0zExs5q"
      },
      "execution_count": null,
      "outputs": []
    },
    {
      "cell_type": "markdown",
      "source": [
        "#Add damping to the simulation\n",
        "\n",
        "When we introduce a drag force\n",
        "\n",
        "$\\frac{d^2 x}{d t^2} = -\\frac{g}{L} x - \\frac{B}{m} \\frac{d x}{d t}$\n",
        "\n",
        "$s = \\omega t$\n",
        "\n",
        "$\\frac{d^2 x}{d s^2} = -x - \\frac{B}{m \\omega} \\frac{d x}{d s}$\n",
        "\n",
        "or as a system of equations: \n",
        "$\\frac{d x}{d s} = u(s)$\n",
        "\n",
        "$\\frac{d u}{d s} = - x(s) - \\frac{B}{m \\omega} u(s)$\n",
        "\n",
        "Translating the system into a vector:\n",
        "\n",
        "$\\vec{y}(s) = (x(s),u(s))$\n",
        "\n",
        "$\\frac{d \\vec{y}}{d s} = (y_1(s), -y_0(s) - \\frac{B}{m \\omega} y_1(s))$\n",
        "\n",
        "Using the definition $Q = \\frac{m \\omega}{B}$, we get the final form:\n",
        "\n",
        "$\\frac{d \\vec{y}}{d s} = (y_1(s), -y_0(s) - y_1(s)/Q)$\n"
      ],
      "metadata": {
        "id": "LMtMM6ffv2jq"
      }
    },
    {
      "cell_type": "markdown",
      "source": [
        "##Question 2: Write down the derivative function for a damped oscillator\n",
        "modifiy oscillatorDerivative\n",
        "```\n",
        "def oscillatorDerivative (s,y): \n",
        "  return (y[1],-y[0]) #y[0] = position, y[1] = velocity;\n",
        "```\n",
        "to take an additional argument and include damping:\n",
        "```\n",
        "def dampedOscillatorDerivative (s,y,Q): \n",
        "  return ....\n",
        "```\n",
        "\n",
        "**hint hint hint: Quick Bite 3**\n",
        "\n",
        "you can write the function in 1 line or in multiple lines, as you prefer "
      ],
      "metadata": {
        "id": "Fyv_XemVN59j"
      }
    },
    {
      "cell_type": "code",
      "source": [
        "def dampedOscillatorDerivative (s,y,Q):\n",
        "  # your code here (optional)\n",
        "  return #your code here\n",
        "\n"
      ],
      "metadata": {
        "id": "saNh_OWIvk06"
      },
      "execution_count": 6,
      "outputs": []
    },
    {
      "cell_type": "markdown",
      "source": [
        "##Question 3: Integrate the damped oscillator for a particular pendulum\n",
        "\n",
        "1. Please simulate the motion of a damped pendulum with mass 0.5 kg and length 1 meter released at t = 0 from an initial displacement of 0.1 meters at 0 velocity, over a time range of 0 to 20 seconds, with **Q = 10**. Have ```solve_ivp``` calculate the solution in increments of 0.05 seconds over the time range 0 to 10 seconds in increments of 0.05 seconds. *Hint: calculate $\\omega$ and convert the time range and dt into units of $s = \\omega t$*\n",
        "1. Please plot the displacement of the bob vs. time over the time range 0 to 60 seconds in increments of 0.05 seconds. *Remember that `sol.t` contains $s$, so $t = $ `sol.t / omega`*\n",
        "1. On a new graph, please plot the Kinetic Energy, Potential Energy, and total energy as a function of time over the time range 0 to 60 seconds in increments of 0.05 seconds. *Hint: when calculating the kinetic energy, remember that u is stored in `sol.y[1]`*\n",
        "\n",
        "###Note: passing extra arguments to ```solve_ivp```\n",
        "\n",
        "There are two ways to tell ```solve_ivp``` about Q. \n",
        "1. Use a 'lambda' function (a short anonymous function) to 'wrap' the derivative function\n",
        "```\n",
        "sol = solve_ivp(lambda s,y: dampedOscillatorDerivative(s,y,Q), ...\n",
        "```\n",
        "1. Use the `args` optional keyword argument to tell `solve_ivp` the derivative function takes extra arguments\n",
        "```\n",
        "sol = solve_ivp(dampedOscillatorDerivative, ..., ..., args = (Q,)\n",
        "```\n",
        "  **the comma after Q is important!** `args` is a list of arguments (in case there are more than one) and you need the comma to make it a list `(10)` is not a list, but `(10,)` is.\n",
        "\n",
        "For both approaches, replace `Q` with the particular value of Q you want to simulate: e.g. `args = (10,)` for Q = 10\n",
        "\n"
      ],
      "metadata": {
        "id": "3haqkG8pPmEa"
      }
    },
    {
      "cell_type": "code",
      "source": [
        "##your code here\n",
        "\n",
        "\n"
      ],
      "metadata": {
        "id": "UDU56bZNYd1D"
      },
      "execution_count": null,
      "outputs": []
    },
    {
      "cell_type": "markdown",
      "source": [
        "## Question 4: Find the lifetime and veriy the relation $Q = \\omega \\tau$\n",
        "\n",
        "If the energy approximately obeys the relation: $U = U(0) e^{-t/\\tau}$, then \n",
        "\n",
        "$\\ln(U) = \\ln(U(0)) - \\frac{t}{\\tau}$\n",
        "\n",
        "For each of Q = 10,20,and 100, \n",
        "1. Solve the damped oscillator from $s = 0$ to $s = 6 Q$ in steps of ds = 0.1 (e.g. for Q = 20, from 0 to 120 in steps of 0.1), with an initial value of $x = 1$ and $u = 0$. \n",
        "1. Calculate the total energy in non-dimensional units $U = \\frac{1}{2}x^2 + \\frac{1}{2} u^2$\n",
        "1. Fit the **natural log of the energy ($\\ln(U)$)** vs. $s$ (`sol.t`) to a line using `np.polyfit`\n",
        "1. Plot the natural log of the energy vs time (s) along with your fit line. Use a separate plot for each Q\n",
        "1. For each plot, title the plot with 'Q = (Q); tau = (-1/m)' where m is the slope of the fit line. E.g. if Q = 25 and $m = -0.02$, then the title would be 'Q = 25, tau = 50' (this would be wrong, see below)\n",
        "\n",
        "*hints:* \n",
        "1. you can solve this problem using a for loop `for Q in (10,20,100):` and only have to write the code once. use `plt.figure()` at the beginning of the loop or `plt.show()` at the end to get a new set of axes for each Q. \n",
        "1. We are working in non-dimensionalized units (which is why I'm not telling you the mass of the bob or the length of the pendulum or any of that nonsense), so $\\omega = 1$. This implies $Q = \\tau$. Use this to check your answer"
      ],
      "metadata": {
        "id": "_Xusrk1xTVQ0"
      }
    },
    {
      "cell_type": "code",
      "source": [
        "#your code here\n"
      ],
      "metadata": {
        "id": "GsM8vf7FbZwK"
      },
      "execution_count": null,
      "outputs": []
    }
  ]
}